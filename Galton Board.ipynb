{
 "cells": [
  {
   "cell_type": "code",
   "execution_count": 7,
   "metadata": {},
   "outputs": [
    {
     "name": "stdout",
     "output_type": "stream",
     "text": [
      "Collecting msgpack\n",
      "  Using cached https://files.pythonhosted.org/packages/8b/fa/975afb5122b563729b93d99b321e3323dee32cdb20b581b5e231d2b49161/msgpack-0.6.1-cp36-cp36m-win_amd64.whl\n",
      "Installing collected packages: msgpack\n",
      "Successfully installed msgpack-0.6.1\n"
     ]
    },
    {
     "name": "stderr",
     "output_type": "stream",
     "text": [
      "You are using pip version 10.0.1, however version 19.0.3 is available.\n",
      "You should consider upgrading via the 'python -m pip install --upgrade pip' command.\n"
     ]
    }
   ],
   "source": [
    "!pip install --user msgpack"
   ]
  },
  {
   "cell_type": "code",
   "execution_count": 11,
   "metadata": {},
   "outputs": [
    {
     "name": "stdout",
     "output_type": "stream",
     "text": [
      "Requirement already satisfied: pymunk in c:\\anaconda\\lib\\site-packages (5.4.2)\n",
      "Requirement already satisfied: cffi in c:\\anaconda\\lib\\site-packages (from pymunk) (1.11.5)\n",
      "Requirement already satisfied: pycparser in c:\\anaconda\\lib\\site-packages (from cffi->pymunk) (2.18)\n"
     ]
    },
    {
     "name": "stderr",
     "output_type": "stream",
     "text": [
      "You are using pip version 10.0.1, however version 19.0.3 is available.\n",
      "You should consider upgrading via the 'python -m pip install --upgrade pip' command.\n"
     ]
    },
    {
     "name": "stdout",
     "output_type": "stream",
     "text": [
      "Requirement already satisfied: pygame in c:\\anaconda\\lib\\site-packages (1.9.5)\n"
     ]
    },
    {
     "name": "stderr",
     "output_type": "stream",
     "text": [
      "You are using pip version 10.0.1, however version 19.0.3 is available.\n",
      "You should consider upgrading via the 'python -m pip install --upgrade pip' command.\n"
     ]
    }
   ],
   "source": [
    "!pip install --user pymunk\n",
    "!pip install --user pygame\n"
   ]
  },
  {
   "cell_type": "code",
   "execution_count": 10,
   "metadata": {},
   "outputs": [
    {
     "ename": "SyntaxError",
     "evalue": "invalid syntax (<ipython-input-10-2cb21d7d2b68>, line 1)",
     "output_type": "error",
     "traceback": [
      "\u001b[1;36m  File \u001b[1;32m\"<ipython-input-10-2cb21d7d2b68>\"\u001b[1;36m, line \u001b[1;32m1\u001b[0m\n\u001b[1;33m    python setup.py build_ext --inplace\u001b[0m\n\u001b[1;37m               ^\u001b[0m\n\u001b[1;31mSyntaxError\u001b[0m\u001b[1;31m:\u001b[0m invalid syntax\n"
     ]
    }
   ],
   "source": [
    "python setup.py build_ext --inplace"
   ]
  },
  {
   "cell_type": "code",
   "execution_count": 12,
   "metadata": {},
   "outputs": [
    {
     "name": "stderr",
     "output_type": "stream",
     "text": [
      "From cffi callback <function SpaceDebugDrawOptions.__init__.<locals>.f1 at 0x0000017AB5F90A60>:\n",
      "Traceback (most recent call last):\n",
      "  File \"D:\\Users\\hiltss\\Github\\pymunk\\pymunk\\space_debug_draw_options.py\", line 61, in f1\n",
      "    @ffi.callback(\"cpSpaceDebugDrawCircleImpl\")\n",
      "KeyboardInterrupt\n"
     ]
    }
   ],
   "source": [
    "\"\"\"This example spawns (bouncing) balls randomly on a L-shape constructed of \n",
    "two segment shapes. Not interactive.\n",
    "\"\"\"\n",
    "\n",
    "__version__ = \"$Id:$\"\n",
    "__docformat__ = \"reStructuredText\"\n",
    "\n",
    "# Python imports\n",
    "import random\n",
    "\n",
    "# Library imports\n",
    "import pygame\n",
    "from pygame.key import *\n",
    "from pygame.locals import *\n",
    "from pygame.color import *\n",
    "\n",
    "# pymunk imports\n",
    "import pymunk\n",
    "import pymunk.pygame_util\n",
    "\n",
    "\n",
    "class BouncyBalls(object):\n",
    "    \"\"\"\n",
    "    This class implements a simple scene in which there is a static platform (made up of a couple of lines)\n",
    "    that don't move. Balls appear occasionally and drop onto the platform. They bounce around.\n",
    "    \"\"\"\n",
    "    def __init__(self):\n",
    "        # Space\n",
    "        self._space = pymunk.Space()\n",
    "        self._space.gravity = (0.0, -900.0)\n",
    "\n",
    "        # Physics\n",
    "        # Time step\n",
    "        self._dt = 1.0 / 60.0\n",
    "        # Number of physics steps per screen frame\n",
    "        self._physics_steps_per_frame = 1\n",
    "\n",
    "        # pygame\n",
    "        pygame.init()\n",
    "        self._screen = pygame.display.set_mode((600, 600))\n",
    "        self._clock = pygame.time.Clock()\n",
    "\n",
    "        self._draw_options = pymunk.pygame_util.DrawOptions(self._screen)\n",
    "\n",
    "        # Static barrier walls (lines) that the balls bounce off of\n",
    "        self._add_static_scenery()\n",
    "\n",
    "        # Balls that exist in the world\n",
    "        self._balls = []\n",
    "\n",
    "        # Execution control and time until the next ball spawns\n",
    "        self._running = True\n",
    "        self._ticks_to_next_ball = 10\n",
    "\n",
    "    def run(self):\n",
    "        \"\"\"\n",
    "        The main loop of the game.\n",
    "        :return: None\n",
    "        \"\"\"\n",
    "        # Main loop\n",
    "        ball_count = 0 \n",
    "        max_balls = 2000\n",
    "        while self._running:\n",
    "            # Progress time forward\n",
    "            for x in range(self._physics_steps_per_frame):\n",
    "                self._space.step(self._dt)\n",
    "\n",
    "            self._process_events()\n",
    "            if ball_count < max_balls:\n",
    "                self._update_balls()\n",
    "                ball_count = ball_count+1\n",
    "            self._clear_screen()\n",
    "            self._draw_objects()\n",
    "            pygame.display.flip()\n",
    "            # Delay fixed time between frames\n",
    "            self._clock.tick(50)\n",
    "            pygame.display.set_caption(\"fps: \" + str(self._clock.get_fps()))\n",
    "\n",
    "    def _add_static_scenery(self):\n",
    "        \"\"\"\n",
    "        Create the static bodies.\n",
    "        :return: None\n",
    "        \"\"\"\n",
    "        table_height = 150.0\n",
    "        line_height = 150.0\n",
    "        line_width = 400.0\n",
    "        line_start = 100.0\n",
    "        bucket_no = 40.0\n",
    "        peg_gap = 11.0\n",
    "        peg_h_gap = 11.0\n",
    "        drop_height = 600.0\n",
    "        first_fall = 75.0\n",
    "        peg_rows = 20.0\n",
    "        bucket_width = line_width / bucket_no\n",
    "        static_body = self._space.static_body\n",
    "        static_lines = [pymunk.Segment(static_body, (line_start, table_height), (line_start+line_width, table_height), 1.0),\n",
    "                        pymunk.Segment(static_body, (line_start, table_height), (line_start, 600.0), 1.0),\n",
    "                        pymunk.Segment(static_body, (line_start+line_width, table_height), (line_start+line_width, 600.0), 1.0)\n",
    "                       ]\n",
    "#                         pymunk.Segment(static_body, (line_start+1.0*bucket_width, table_height), (line_start+1.0*bucket_width, table_height+line_height), 1.0),\n",
    "#                         pymunk.Segment(static_body, (line_start+2.0*bucket_width, table_height), (line_start+2.0*bucket_width, table_height+line_height), 1.0),\n",
    "#                         pymunk.Segment(static_body, (line_start+3.0*bucket_width, table_height), (line_start+3.0*bucket_width, table_height+line_height), 1.0),\n",
    "#                         pymunk.Segment(static_body, (line_start+4.0*bucket_width, table_height), (line_start+4.0*bucket_width, table_height+line_height), 1.0),\n",
    "#                         pymunk.Segment(static_body, (line_start+5.0*bucket_width, table_height), (line_start+5.0*bucket_width, table_height+line_height), 1.0),\n",
    "#                         pymunk.Segment(static_body, (line_start+6.0*bucket_width, table_height), (line_start+6.0*bucket_width, table_height+line_height), 1.0),\n",
    "#                         pymunk.Segment(static_body, (line_start+7.0*bucket_width, table_height), (line_start+7.0*bucket_width, table_height+line_height), 1.0),\n",
    "#                         pymunk.Segment(static_body, (line_start+8.0*bucket_width, table_height), (line_start+8.0*bucket_width, table_height+line_height), 1.0),\n",
    "#                         pymunk.Segment(static_body, (line_start+9.0*bucket_width, table_height), (line_start+9.0*bucket_width, table_height+line_height), 1.0),\n",
    "#                         pymunk.Segment(static_body, (line_start+10.0*bucket_width, table_height), (line_start+10.0*bucket_width, 600.0), 1.0)]\n",
    "#                         pymunk.Circle(static_body, 4.0, offset=(250.0, 450.0)),\n",
    "#                         pymunk.Circle(static_body, 4.0, offset=(230.0, 400.0)),\n",
    "#                         pymunk.Circle(static_body, 4.0, offset=(210.0, 400.0)),\n",
    "#                         pymunk.Circle(static_body, 4.0, offset=(270.0, 400.0)),\n",
    "#                         pymunk.Circle(static_body, 4.0, offset=(290.0, 400.0)),\n",
    "#                         pymunk.Circle(static_body, 4.0, offset=(250.0, 350.0))]\n",
    "        \n",
    "    \n",
    "        for bucket in range(int(line_start),int(line_width+line_start), int((line_width+line_start)/bucket_no)):\n",
    "            static_lines.append(pymunk.Segment(static_body, (bucket, table_height), (bucket, table_height+line_height), 1.0))\n",
    "\n",
    "        \n",
    "        for row_count in range(int(peg_rows)):\n",
    "            for x in range(int(line_start),int(line_start+line_width),int(peg_gap)):\n",
    "                y = drop_height-first_fall - row_count*peg_h_gap\n",
    "                if row_count%2 !=0:\n",
    "                    x+=peg_gap/2\n",
    "                static_lines.append(pymunk.Circle(static_body, 2.0, offset=(float(x), float(y))))\n",
    "                    \n",
    "#         for x in range(int(line_start),int(line_start+line_width),int(peg_gap)):\n",
    "#             for y in range(int(table_height+200.0),int(drop_height-50.0),int(peg_h_gap)):\n",
    "#                 if row_count%2 !=0:\n",
    "#                     x+=peg_gap/2\n",
    "#                 static_lines.append(pymunk.Circle(static_body, 3.0, offset=(float(x), float(y))))\n",
    "\n",
    "        for line in static_lines:\n",
    "            line.elasticity = 0.95\n",
    "            line.friction = 0.9\n",
    "        self._space.add(static_lines)\n",
    "\n",
    "    def _process_events(self):\n",
    "        \"\"\"\n",
    "        Handle game and events like keyboard input. Call once per frame only.\n",
    "        :return: None\n",
    "        \"\"\"\n",
    "        for event in pygame.event.get():\n",
    "            if event.type == QUIT:\n",
    "                self._running = False\n",
    "            elif event.type == KEYDOWN and event.key == K_ESCAPE:\n",
    "                self._running = False\n",
    "            elif event.type == KEYDOWN and event.key == K_p:\n",
    "                pygame.image.save(self._screen, \"bouncing_balls.png\")\n",
    "\n",
    "    def _update_balls(self):\n",
    "        \"\"\"\n",
    "        Create/remove balls as necessary. Call once per frame only.\n",
    "        :return: None\n",
    "        \"\"\"\n",
    "        self._ticks_to_next_ball -= 1\n",
    "        if self._ticks_to_next_ball <= 0:\n",
    "            self._create_ball()\n",
    "            self._ticks_to_next_ball = 3\n",
    "    \n",
    "        # Remove balls that fall below 100 vertically\n",
    "        balls_to_remove = [ball for ball in self._balls if ball.body.position.y < 100]\n",
    "        for ball in balls_to_remove:\n",
    "            self._space.remove(ball, ball.body)\n",
    "            self._balls.remove(ball)\n",
    "\n",
    "    def _create_ball(self):\n",
    "        \"\"\"\n",
    "        Create a ball.\n",
    "        :return:\n",
    "        \"\"\"\n",
    "        mass = 10\n",
    "        radius = 2.5\n",
    "        inertia = pymunk.moment_for_circle(mass, 0, radius, (0, 0))\n",
    "        body = pymunk.Body(mass, inertia)\n",
    "        x = random.randint(299, 301)\n",
    "        body.position = x, 600\n",
    "        shape = pymunk.Circle(body, radius, (0, 0))\n",
    "        shape.elasticity = 0.65\n",
    "        shape.friction = 0.35\n",
    "        self._space.add(body, shape)\n",
    "        self._balls.append(shape)\n",
    "\n",
    "    def _clear_screen(self):\n",
    "        \"\"\"\n",
    "        Clears the screen.\n",
    "        :return: None\n",
    "        \"\"\"\n",
    "        self._screen.fill(THECOLORS[\"white\"])\n",
    "\n",
    "    def _draw_objects(self):\n",
    "        \"\"\"\n",
    "        Draw the objects.\n",
    "        :return: None\n",
    "        \"\"\"\n",
    "        self._space.debug_draw(self._draw_options)\n",
    "\n",
    "\n",
    "if __name__ == '__main__':\n",
    "    game = BouncyBalls()\n",
    "    game.run()"
   ]
  },
  {
   "cell_type": "code",
   "execution_count": null,
   "metadata": {
    "collapsed": true
   },
   "outputs": [],
   "source": []
  }
 ],
 "metadata": {
  "kernelspec": {
   "display_name": "Python 3",
   "language": "python",
   "name": "python3"
  },
  "language_info": {
   "codemirror_mode": {
    "name": "ipython",
    "version": 3
   },
   "file_extension": ".py",
   "mimetype": "text/x-python",
   "name": "python",
   "nbconvert_exporter": "python",
   "pygments_lexer": "ipython3",
   "version": "3.6.5"
  }
 },
 "nbformat": 4,
 "nbformat_minor": 2
}
